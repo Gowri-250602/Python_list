{
 "cells": [
  {
   "cell_type": "code",
   "execution_count": 2,
   "id": "0bdf354c-b80a-47e7-86b8-c76d196552c5",
   "metadata": {},
   "outputs": [
    {
     "name": "stdout",
     "output_type": "stream",
     "text": [
      "[2, 3, 4, 8, 6, 22, 89]\n"
     ]
    }
   ],
   "source": [
    "#List\n",
    "list1=[2,3,4,8,6,22,89]\n",
    "print(list1)"
   ]
  },
  {
   "cell_type": "code",
   "execution_count": 3,
   "id": "6a6c6e07-138a-405f-a7e1-f156dae6f39d",
   "metadata": {},
   "outputs": [
    {
     "name": "stdout",
     "output_type": "stream",
     "text": [
      "['hi', 'gowri', 'gowri', 4, (100+2j)]\n"
     ]
    }
   ],
   "source": [
    "list2=[\"hi\",\"gowri\",\"gowri\",4,100+2j]#allows duplicates\n",
    "print(list2)"
   ]
  },
  {
   "cell_type": "code",
   "execution_count": 4,
   "id": "09ad7d0f-ffc2-4957-99c9-5f09373f57f7",
   "metadata": {},
   "outputs": [
    {
     "data": {
      "text/plain": [
       "['gowri', 'gowri', 4, (100+2j)]"
      ]
     },
     "execution_count": 4,
     "metadata": {},
     "output_type": "execute_result"
    }
   ],
   "source": [
    "#accessing\n",
    "list2[1:5]\n",
    "\n"
   ]
  },
  {
   "cell_type": "code",
   "execution_count": 6,
   "id": "cdd468cc-a675-451b-a198-11e26551a6d3",
   "metadata": {},
   "outputs": [
    {
     "data": {
      "text/plain": [
       "['gowri', 'gowri', 4]"
      ]
     },
     "execution_count": 6,
     "metadata": {},
     "output_type": "execute_result"
    }
   ],
   "source": [
    "list2[-4:-1]"
   ]
  },
  {
   "cell_type": "code",
   "execution_count": 8,
   "id": "2a0a0d14-8f6f-41c6-a090-acac0d174e4d",
   "metadata": {},
   "outputs": [
    {
     "name": "stdout",
     "output_type": "stream",
     "text": [
      "['hi', 'gowri', 'gowri', 4, (100+2j), 'manokari', 'manokari']\n"
     ]
    }
   ],
   "source": [
    "#appending\n",
    "list2.append(\"manokari\")\n",
    "print(list2)"
   ]
  },
  {
   "cell_type": "code",
   "execution_count": 13,
   "id": "0e1e0e32-9fda-4930-b089-60db8092a8a1",
   "metadata": {},
   "outputs": [
    {
     "name": "stdout",
     "output_type": "stream",
     "text": [
      "['abc', 'abc', 2, 3, 4, 8, 6, 22, 89]\n",
      "['abc', 'abc', 2, 3, 4, 'xyz', 8, 6, 22, 89]\n"
     ]
    }
   ],
   "source": [
    "#insert  (insert via index)\n",
    "list1.insert(0,\"abc\")\n",
    "print(list1)\n",
    "list1.insert(-4,\"xyz\")\n",
    "print(list1)"
   ]
  },
  {
   "cell_type": "code",
   "execution_count": 15,
   "id": "325b3267-7f05-4b79-9a06-3fb456af763d",
   "metadata": {},
   "outputs": [
    {
     "name": "stdout",
     "output_type": "stream",
     "text": [
      "[2, 3, 4, 'xyz', 8, 6, 22, 89]\n"
     ]
    }
   ],
   "source": [
    "#remove  (remove via values)\n",
    "list1.remove(\"abc\")\n",
    "print(list1)"
   ]
  },
  {
   "cell_type": "code",
   "execution_count": 16,
   "id": "6de6b08c-694c-4a4f-aa7f-16a94f8482d9",
   "metadata": {},
   "outputs": [
    {
     "name": "stdout",
     "output_type": "stream",
     "text": [
      "[2, 3, 4, 'xyz', 8, 6, 22]\n"
     ]
    }
   ],
   "source": [
    "#pop  (deletes a last value)\n",
    "list1.pop()\n",
    "print(list1)"
   ]
  },
  {
   "cell_type": "code",
   "execution_count": 17,
   "id": "fac9e84b-a84d-43c4-8d57-bb54e83ae083",
   "metadata": {},
   "outputs": [
    {
     "name": "stdout",
     "output_type": "stream",
     "text": [
      "[2, 4, 'xyz', 8, 6, 22]\n"
     ]
    }
   ],
   "source": [
    "#pop(index) (deletes a value via index)\n",
    "list1.pop(1)\n",
    "print(list1)"
   ]
  }
 ],
 "metadata": {
  "kernelspec": {
   "display_name": "Python 3 (ipykernel)",
   "language": "python",
   "name": "python3"
  },
  "language_info": {
   "codemirror_mode": {
    "name": "ipython",
    "version": 3
   },
   "file_extension": ".py",
   "mimetype": "text/x-python",
   "name": "python",
   "nbconvert_exporter": "python",
   "pygments_lexer": "ipython3",
   "version": "3.12.7"
  }
 },
 "nbformat": 4,
 "nbformat_minor": 5
}
